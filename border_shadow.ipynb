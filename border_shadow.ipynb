{
 "cells": [
  {
   "cell_type": "code",
   "execution_count": 1,
   "metadata": {},
   "outputs": [],
   "source": [
    "import numpy as np"
   ]
  },
  {
   "cell_type": "code",
   "execution_count": 2,
   "metadata": {},
   "outputs": [
    {
     "name": "stdout",
     "output_type": "stream",
     "text": [
      "0.0em 0.02em #000, 0.0054em 0.0193em #000, 0.0104em 0.0171em #000, 0.0146em 0.0137em #000, \n",
      "0.0178em 0.0092em #000, 0.0196em 0.0041em #000, 0.02em -0.0014em #000, 0.0188em -0.0067em #000, \n",
      "0.0163em -0.0115em #000, 0.0126em -0.0155em #000, 0.008em -0.0183em #000, 0.0027em -0.0198em #000, \n",
      "-0.0027em -0.0198em #000, -0.008em -0.0183em #000, -0.0126em -0.0155em #000, -0.0163em -0.0115em #000, \n",
      "-0.0188em -0.0067em #000, -0.02em -0.0014em #000, -0.0196em 0.0041em #000, -0.0178em 0.0092em #000, \n",
      "-0.0146em 0.0137em #000, -0.0104em 0.0171em #000, -0.0054em 0.0193em #000, -0.0em 0.02em #000, \n"
     ]
    }
   ],
   "source": [
    "N = 24\n",
    "R = 0.02\n",
    "D = 4\n",
    "\n",
    "t = np.linspace(0, 2*np.pi, N)\n",
    "x = np.sin(t)\n",
    "y = np.cos(t)\n",
    "for i in range(N):\n",
    "    print(f\"{round(R*x[i],D)}em {round(R*y[i],D)}em #000,\", end=\" \")\n",
    "    if i%4 == 3:\n",
    "        print()\n"
   ]
  }
 ],
 "metadata": {
  "kernelspec": {
   "display_name": "Python 3",
   "language": "python",
   "name": "python3"
  },
  "language_info": {
   "codemirror_mode": {
    "name": "ipython",
    "version": 3
   },
   "file_extension": ".py",
   "mimetype": "text/x-python",
   "name": "python",
   "nbconvert_exporter": "python",
   "pygments_lexer": "ipython3",
   "version": "3.11.4"
  }
 },
 "nbformat": 4,
 "nbformat_minor": 2
}
